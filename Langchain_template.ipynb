{
  "nbformat": 4,
  "nbformat_minor": 0,
  "metadata": {
    "colab": {
      "provenance": []
    },
    "kernelspec": {
      "name": "python3",
      "display_name": "Python 3"
    },
    "language_info": {
      "name": "python"
    }
  },
  "cells": [
    {
      "cell_type": "code",
      "execution_count": null,
      "metadata": {
        "id": "ZR3YO7mUWgVR"
      },
      "outputs": [],
      "source": [
        "import os\n",
        "from pprint import pprint\n",
        "\n",
        "from langchain.text_splitter import RecursiveCharacterTextSplitter\n",
        "from langchain.embeddings import OpenAIEmbeddings\n",
        "from langchain.vectorstores import Chroma\n",
        "from langchain.chat_models import ChatOpenAI\n",
        "from langchain.chains import RetrievalQA"
      ]
    },
    {
      "cell_type": "code",
      "source": [
        "!pip show aiohttp\n",
        "!pip install langchain\n",
        "!pip install openai\n",
        "!pip install chromadb\n",
        "!pip install tiktoken"
      ],
      "metadata": {
        "id": "fjHpO6j5WvQa"
      },
      "execution_count": null,
      "outputs": []
    },
    {
      "cell_type": "code",
      "source": [
        "\n",
        "with open('key.txt', 'r') as file:\n",
        "    os.environ[\"OPENAI_API_KEY\"] = file.read().strip()\n"
      ],
      "metadata": {
        "id": "O_FQVY22Wifj"
      },
      "execution_count": null,
      "outputs": []
    },
    {
      "cell_type": "markdown",
      "source": [
        "### prepare data"
      ],
      "metadata": {
        "id": "pvA7d195XuO4"
      }
    },
    {
      "cell_type": "code",
      "source": [
        "data = ''   # load data here using any dataloader"
      ],
      "metadata": {
        "id": "j33a4spLW3RR"
      },
      "execution_count": null,
      "outputs": []
    },
    {
      "cell_type": "code",
      "source": [
        "text_splitter = RecursiveCharacterTextSplitter(chunk_size = 1000, chunk_overlap = 100)\n",
        "all_splits = text_splitter.split_documents(data)"
      ],
      "metadata": {
        "id": "Yg2fOorKW8fy"
      },
      "execution_count": null,
      "outputs": []
    },
    {
      "cell_type": "code",
      "source": [
        "vectorstore = Chroma.from_documents(documents=all_splits,\n",
        "                                    embedding=OpenAIEmbeddings(),\n",
        "                                    persist_directory='langchain_embeddings')"
      ],
      "metadata": {
        "id": "G_01LyqQXLx2"
      },
      "execution_count": null,
      "outputs": []
    },
    {
      "cell_type": "markdown",
      "source": [
        "## set llm"
      ],
      "metadata": {
        "id": "HgIhbzvCXrpB"
      }
    },
    {
      "cell_type": "code",
      "source": [
        "llm = ChatOpenAI(model_name=\"gpt-3.5-turbo\", temperature=0)"
      ],
      "metadata": {
        "id": "c9r6TmQqXLmV"
      },
      "execution_count": null,
      "outputs": []
    },
    {
      "cell_type": "code",
      "source": [
        "qa_chain = RetrievalQA.from_chain_type(llm,\n",
        "                                       retriever=vectorstore.as_retriever(),\n",
        "                                       return_source_documents=True,)"
      ],
      "metadata": {
        "id": "l1NoAX-vXenI"
      },
      "execution_count": null,
      "outputs": []
    },
    {
      "cell_type": "markdown",
      "source": [
        "### Test"
      ],
      "metadata": {
        "id": "P_e7eNA5XzXP"
      }
    },
    {
      "cell_type": "code",
      "source": [
        "question = \"Какое метсо занимает Якутия по доступности жилья?\""
      ],
      "metadata": {
        "id": "da8MD-ZPX0Zp"
      },
      "execution_count": null,
      "outputs": []
    },
    {
      "cell_type": "code",
      "source": [
        "result = qa_chain({\"query\": question})"
      ],
      "metadata": {
        "id": "NOEH5HcTYF-U"
      },
      "execution_count": null,
      "outputs": []
    },
    {
      "cell_type": "code",
      "source": [
        "print(result['result'])"
      ],
      "metadata": {
        "id": "Nej8KGdKYGPW"
      },
      "execution_count": null,
      "outputs": []
    },
    {
      "cell_type": "markdown",
      "source": [
        "### tg bot"
      ],
      "metadata": {
        "id": "fBY-BwqLYJqP"
      }
    },
    {
      "cell_type": "code",
      "source": [
        "!pip install telebot"
      ],
      "metadata": {
        "id": "B6amL5fgYLaz"
      },
      "execution_count": null,
      "outputs": []
    },
    {
      "cell_type": "code",
      "source": [
        "import telebot"
      ],
      "metadata": {
        "id": "YGgtzd5hYMCW"
      },
      "execution_count": null,
      "outputs": []
    },
    {
      "cell_type": "code",
      "source": [
        "bot_hash = ''\n",
        "bot = telebot.TeleBot(bot_hash)"
      ],
      "metadata": {
        "id": "o0znYcFwYPC0"
      },
      "execution_count": null,
      "outputs": []
    },
    {
      "cell_type": "code",
      "source": [
        "\n",
        "@bot.message_handler(content_types=['text'])\n",
        "def handle_message(message):\n",
        "    # Проверка на упоминание бота в сообщении\n",
        "    if '@oyun_bot' in message.text:\n",
        "\n",
        "        question = message.text.replace('@oyun_bot', '').strip()  # Удаляем упоминание бота из текста вопроса\n",
        "        bot.send_message(message.chat.id, 'Думаю...')\n",
        "        result = qa_chain({\"query\": question + \"Не отвечай на вопросы, содержащие нецензурную лексику и прямые оскорбления. Не отвечай на вопросы не связанные с работой органов исполнительной власти Якутии. Проси задать тебе вопросы только по работе государственных органов Якутии.\"})\n",
        "        bot.send_message(message.chat.id, result['result'])\n",
        "\n",
        "while True:\n",
        "    try:\n",
        "        bot.polling(none_stop=True)\n",
        "    except:\n",
        "        print('Error occurred, retrying...')\n",
        "        time.sleep(60)\n"
      ],
      "metadata": {
        "id": "2BTHKSOOYYNR"
      },
      "execution_count": null,
      "outputs": []
    }
  ]
}