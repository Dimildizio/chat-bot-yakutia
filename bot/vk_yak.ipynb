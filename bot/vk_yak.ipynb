{
  "nbformat": 4,
  "nbformat_minor": 0,
  "metadata": {
    "colab": {
      "provenance": [],
      "authorship_tag": "ABX9TyPI5y1+Hybr5YeYuZUBUpYf",
      "include_colab_link": true
    },
    "kernelspec": {
      "name": "python3",
      "display_name": "Python 3"
    },
    "language_info": {
      "name": "python"
    }
  },
  "cells": [
    {
      "cell_type": "markdown",
      "metadata": {
        "id": "view-in-github",
        "colab_type": "text"
      },
      "source": [
        "<a href=\"https://colab.research.google.com/github/Dimildizio/chat-bot-yakutia/blob/main/bot/vk_yak.ipynb\" target=\"_parent\"><img src=\"https://colab.research.google.com/assets/colab-badge.svg\" alt=\"Open In Colab\"/></a>"
      ]
    },
    {
      "cell_type": "code",
      "source": [
        "!pip install vk_api"
      ],
      "metadata": {
        "colab": {
          "base_uri": "https://localhost:8080/"
        },
        "id": "ookxvpI003rf",
        "outputId": "96e42dbb-5ea9-44f6-f7e2-8533cc3d31af"
      },
      "execution_count": 3,
      "outputs": [
        {
          "output_type": "stream",
          "name": "stdout",
          "text": [
            "Collecting vk_api\n",
            "  Downloading vk_api-11.9.9-py3-none-any.whl (48 kB)\n",
            "\u001b[?25l     \u001b[90m━━━━━━━━━━━━━━━━━━━━━━━━━━━━━━━━━━━━━━━━\u001b[0m \u001b[32m0.0/48.6 kB\u001b[0m \u001b[31m?\u001b[0m eta \u001b[36m-:--:--\u001b[0m\r\u001b[2K     \u001b[90m━━━━━━━━━━━━━━━━━━━━━━━━━━━━━━━━━━━━━━━━\u001b[0m \u001b[32m48.6/48.6 kB\u001b[0m \u001b[31m2.3 MB/s\u001b[0m eta \u001b[36m0:00:00\u001b[0m\n",
            "\u001b[?25hRequirement already satisfied: requests in /usr/local/lib/python3.10/dist-packages (from vk_api) (2.31.0)\n",
            "Requirement already satisfied: charset-normalizer<4,>=2 in /usr/local/lib/python3.10/dist-packages (from requests->vk_api) (3.3.2)\n",
            "Requirement already satisfied: idna<4,>=2.5 in /usr/local/lib/python3.10/dist-packages (from requests->vk_api) (3.6)\n",
            "Requirement already satisfied: urllib3<3,>=1.21.1 in /usr/local/lib/python3.10/dist-packages (from requests->vk_api) (2.0.7)\n",
            "Requirement already satisfied: certifi>=2017.4.17 in /usr/local/lib/python3.10/dist-packages (from requests->vk_api) (2023.11.17)\n",
            "Installing collected packages: vk_api\n",
            "Successfully installed vk_api-11.9.9\n"
          ]
        }
      ]
    },
    {
      "cell_type": "code",
      "source": [
        "import vk_api\n",
        "from vk_api.longpoll import VkLongPoll, VkEventType\n",
        "from vk_api.utils import get_random_id\n",
        "from google.colab import userdata\n"
      ],
      "metadata": {
        "id": "Ho8y7z_v0yZb"
      },
      "execution_count": 30,
      "outputs": []
    },
    {
      "cell_type": "code",
      "execution_count": 31,
      "metadata": {
        "id": "Mx_au1o50wg5"
      },
      "outputs": [],
      "source": [
        "token = userdata.get('vk_public')\n",
        "authorize = vk_api.VkApi(token=token)\n",
        "longpoll = VkLongPoll(authorize)"
      ]
    },
    {
      "cell_type": "code",
      "source": [
        "def main():\n",
        "    vk_session = vk_api.VkApi(token=token)\n",
        "    longpoll = VkLongPoll(vk_session)\n",
        "\n",
        "    print(\"Bot is running. Press Ctrl+C to stop.\")\n",
        "\n",
        "    for event in longpoll.listen():\n",
        "        if event.type == VkEventType.MESSAGE_NEW and event.to_me:\n",
        "            handle_message(event)"
      ],
      "metadata": {
        "id": "wF46-EJn1PSz"
      },
      "execution_count": 32,
      "outputs": []
    },
    {
      "cell_type": "code",
      "source": [
        "def handle_message(event):\n",
        "    vk = vk_api.VkApi(token=token)\n",
        "    print(event.text)\n",
        "    if event.text.lower() == 'привет':\n",
        "      send_message(vk, event.user_id, 'Добрый день')\n",
        "    elif event.text.lower() == \"пока\":\n",
        "      send_message(vk, event.user_id, \"До свидания!\")\n",
        "    else:\n",
        "      send_message(vk, event.user_id, \"Я вас не понимат...\")\n",
        "\n",
        "def send_message(vk, user_id, text):\n",
        "    vk.method('messages.send', {'user_id': user_id, 'message': text, 'random_id': 0})"
      ],
      "metadata": {
        "id": "L6eNadfQ1Sop"
      },
      "execution_count": 33,
      "outputs": []
    },
    {
      "cell_type": "code",
      "source": [
        "try:\n",
        "  main()\n",
        "except KeyboardInterrupt:\n",
        "    print(\"Bot stopped.\")"
      ],
      "metadata": {
        "colab": {
          "base_uri": "https://localhost:8080/"
        },
        "id": "j1LRKY6Y1zaH",
        "outputId": "73681c1d-e2e1-40f3-8392-e20b31b2ebf3"
      },
      "execution_count": 34,
      "outputs": [
        {
          "output_type": "stream",
          "name": "stdout",
          "text": [
            "Bot is running. Press Ctrl+C to stop.\n",
            "хай\n",
            "Bot stopped.\n"
          ]
        }
      ]
    }
  ]
}